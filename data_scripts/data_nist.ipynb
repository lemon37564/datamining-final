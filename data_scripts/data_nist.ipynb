{
 "cells": [
  {
   "cell_type": "code",
   "execution_count": 37,
   "id": "023d1909",
   "metadata": {},
   "outputs": [],
   "source": [
    "import pickle\n",
    "import numpy as np\n",
    "import pandas as pd\n",
    "import itertools\n",
    "from sklearn.model_selection import train_test_split\n",
    "from sklearn.feature_selection import VarianceThreshold\n",
    "from sklearn import cluster\n",
    "from sklearn.decomposition import PCA\n",
    "from sklearn.neighbors import KNeighborsClassifier"
   ]
  },
  {
   "cell_type": "markdown",
   "id": "e7664c89",
   "metadata": {},
   "source": [
    "# NIST"
   ]
  },
  {
   "cell_type": "code",
   "execution_count": 133,
   "id": "12c24a76",
   "metadata": {},
   "outputs": [
    {
     "name": "stdout",
     "output_type": "stream",
     "text": [
      "(1797, 64)\n"
     ]
    }
   ],
   "source": [
    "from sklearn.datasets import load_digits\n",
    "mnist = load_digits()\n",
    "print(mnist.data.shape)"
   ]
  },
  {
   "cell_type": "code",
   "execution_count": 134,
   "id": "f47b2cdc",
   "metadata": {},
   "outputs": [],
   "source": [
    "X = mnist.data \n",
    "y = mnist.target\n",
    "# X = X.reshape(X.shape[0],8,8)"
   ]
  },
  {
   "cell_type": "code",
   "execution_count": 135,
   "id": "f29da1ba",
   "metadata": {},
   "outputs": [],
   "source": [
    "ndim = 20\n",
    "nsamp = 3\n",
    "seeds = [123,1234,12345]"
   ]
  },
  {
   "cell_type": "markdown",
   "id": "5b83559b",
   "metadata": {},
   "source": [
    "## Test"
   ]
  },
  {
   "cell_type": "code",
   "execution_count": 77,
   "id": "00f86e4a",
   "metadata": {},
   "outputs": [],
   "source": [
    "def testacc(Xtr,ytr,Xt,yt,sel,sample=True):\n",
    "    knn = KNeighborsClassifier(n_neighbors=1)\n",
    "    if sample:\n",
    "        idx = np.random.choice(Xtr.shape[0], 100, replace=False, )\n",
    "        knn.fit(Xtr[idx][:,sel], ytr[idx])\n",
    "    else:\n",
    "        knn.fit(Xtr[:,sel], ytr)\n",
    "    preds = knn.predict(Xt[:,sel])\n",
    "    print(sum(preds==yt) / len(yt))"
   ]
  },
  {
   "cell_type": "code",
   "execution_count": 51,
   "id": "3c8fb34b",
   "metadata": {},
   "outputs": [],
   "source": [
    "X_train, X_test, y_train, y_test = train_test_split(X, y, test_size=0.25, random_state=123)"
   ]
  },
  {
   "cell_type": "code",
   "execution_count": 97,
   "id": "2d71229b",
   "metadata": {},
   "outputs": [
    {
     "name": "stdout",
     "output_type": "stream",
     "text": [
      "[45 43 21 20 26 27 28 29 62  3  5 35 36 37  2 19 18 42 44 34]\n",
      "0.8822222222222222\n"
     ]
    }
   ],
   "source": [
    "# fea sel 1\n",
    "sel = VarianceThreshold()\n",
    "sel.fit(X_train)\n",
    "dimsel = np.argsort(sel.variances_)[-ndim:]\n",
    "print(dimsel)\n",
    "testacc(X_train, y_train, X_test, y_test, dimsel)"
   ]
  },
  {
   "cell_type": "code",
   "execution_count": 96,
   "id": "725508c6",
   "metadata": {},
   "outputs": [
    {
     "name": "stdout",
     "output_type": "stream",
     "text": [
      "[34, 44, 42, 18, 19, 2, 37, 36, 35, 5, 3, 62, 29, 28, 27, 26, 20, 21, 43, 45]\n",
      "0.8822222222222222\n"
     ]
    }
   ],
   "source": [
    "# fea sel 1\n",
    "sel = VarianceThreshold()\n",
    "sel.fit(X_train)\n",
    "dimsel = []\n",
    "for d in reversed(np.argsort(sel.variances_)):\n",
    "    issim = False\n",
    "    for d2 in dimsel:\n",
    "        dist = np.sum(np.abs(X_train[:,d] - X_train[:,d2]) > 0.5) / len(X_train)\n",
    "        if dist < 0.1:\n",
    "            issim = True\n",
    "            break\n",
    "    if issim: continue\n",
    "    dimsel.append(d)\n",
    "    if len(dimsel) == ndim:\n",
    "        break\n",
    "print(dimsel)\n",
    "testacc(X_train, y_train, X_test, y_test, dimsel)"
   ]
  },
  {
   "cell_type": "code",
   "execution_count": 113,
   "id": "7cfbe880",
   "metadata": {},
   "outputs": [
    {
     "name": "stdout",
     "output_type": "stream",
     "text": [
      "0.8266666666666667\n"
     ]
    }
   ],
   "source": [
    "# fea sel 2\n",
    "agglo = cluster.FeatureAgglomeration(n_clusters=ndim)\n",
    "agglo.fit(X_train)\n",
    "dimsel = []\n",
    "for i in range(ndim):\n",
    "    for idx,j in enumerate(agglo.labels_):\n",
    "        if i==j:\n",
    "            dimsel.append(idx)\n",
    "            break\n",
    "testacc(X_train, y_train, X_test, y_test, dimsel)"
   ]
  },
  {
   "cell_type": "code",
   "execution_count": 112,
   "id": "b28a8501",
   "metadata": {},
   "outputs": [
    {
     "name": "stdout",
     "output_type": "stream",
     "text": [
      "0.8333333333333334\n"
     ]
    }
   ],
   "source": [
    "# fea sel 2\n",
    "sel = VarianceThreshold()\n",
    "sel.fit(X_train)\n",
    "dimsel_ = np.argsort(sel.variances_)[-ndim*2:]\n",
    "# dimsel_ = np.nonzero(sel.variances_)[0]\n",
    "\n",
    "agglo = cluster.FeatureAgglomeration(n_clusters=ndim)\n",
    "agglo.fit(X_train[:,dimsel_])\n",
    "dimsel = []\n",
    "for i in range(ndim):\n",
    "    for idx,j in enumerate(agglo.labels_):\n",
    "        if i==j:\n",
    "            dimsel.append(dimsel_[idx])\n",
    "            break\n",
    "testacc(X_train, y_train, X_test, y_test, dimsel)"
   ]
  },
  {
   "cell_type": "code",
   "execution_count": 132,
   "id": "2e2efb9d",
   "metadata": {},
   "outputs": [
    {
     "name": "stdout",
     "output_type": "stream",
     "text": [
      "0.8355555555555556\n"
     ]
    }
   ],
   "source": [
    "# fea sel 3\n",
    "model = PCA(n_components=ndim).fit(X_train)\n",
    "n_pcs = model.components_.shape[0]\n",
    "dimsel = [np.abs(model.components_[i]).argmax() for i in range(n_pcs)]\n",
    "testacc(X_train, y_train, X_test, y_test, dimsel)"
   ]
  },
  {
   "cell_type": "code",
   "execution_count": 130,
   "id": "87de3ecf",
   "metadata": {},
   "outputs": [
    {
     "name": "stdout",
     "output_type": "stream",
     "text": [
      "[42, 34, 44, 28, 21, 29, 61, 10, 21, 42, 19, 52, 35, 27, 61, 13, 36, 45, 18, 36]\n",
      "0.8377777777777777\n"
     ]
    }
   ],
   "source": [
    "# fea sel 3\n",
    "model = PCA(n_components=ndim//2).fit(X_train)\n",
    "n_pcs = model.components_.shape[0]\n",
    "dimsel = [np.argsort(np.abs(model.components_[i]))[-2:] for i in range(n_pcs)]\n",
    "dimsel = [i for i in itertools.chain(*dimsel)]\n",
    "print(dimsel)\n",
    "testacc(X_train, y_train, X_test, y_test, dimsel)"
   ]
  },
  {
   "cell_type": "markdown",
   "id": "53a7e44e",
   "metadata": {},
   "source": [
    "## Sel"
   ]
  },
  {
   "cell_type": "code",
   "execution_count": 136,
   "id": "5e191172",
   "metadata": {},
   "outputs": [],
   "source": [
    "samps = []\n",
    "for i,seed in zip(range(nsamp),seeds):\n",
    "    X_train, X_test, y_train, y_test = train_test_split(X, y, test_size=0.25, random_state=seed)\n",
    "    dims = []\n",
    "    \n",
    "    # fea sel 1\n",
    "    sel = VarianceThreshold()\n",
    "    sel.fit(X_train)\n",
    "    dimsel = np.argsort(sel.variances_)[-ndim:]\n",
    "    dims.append(dimsel)\n",
    "    \n",
    "    # fea sel 2\n",
    "    agglo = cluster.FeatureAgglomeration(n_clusters=ndim)\n",
    "    agglo.fit(X_train)\n",
    "    dimsel = []\n",
    "    for i in range(ndim):\n",
    "        for idx,j in enumerate(agglo.labels_):\n",
    "            if i==j:\n",
    "                dimsel.append(idx)\n",
    "                break\n",
    "    dims.append(np.array(dimsel))\n",
    "\n",
    "    # fea sel 3\n",
    "    # PCA: https://stackoverflow.com/questions/50796024/feature-variable-importance-after-a-pca-analysis\n",
    "    model = PCA(n_components=ndim).fit(X_train)\n",
    "    n_pcs= model.components_.shape[0]\n",
    "    # get the index of the most important feature on EACH component\n",
    "    dimsel = [np.abs(model.components_[i]).argmax() for i in range(n_pcs)]\n",
    "    dims.append(np.array(dimsel))\n",
    "\n",
    "    samps.append([(X_train, y_train), (X_test, y_test), dims])"
   ]
  },
  {
   "cell_type": "code",
   "execution_count": 137,
   "id": "2a9cefa0",
   "metadata": {},
   "outputs": [],
   "source": [
    "with open('datasets/nist.pkl', 'wb') as fout:\n",
    "    pickle.dump(samps, fout)"
   ]
  }
 ],
 "metadata": {
  "kernelspec": {
   "display_name": "Python 3",
   "language": "python",
   "name": "python3"
  },
  "language_info": {
   "codemirror_mode": {
    "name": "ipython",
    "version": 3
   },
   "file_extension": ".py",
   "mimetype": "text/x-python",
   "name": "python",
   "nbconvert_exporter": "python",
   "pygments_lexer": "ipython3",
   "version": "3.8.2"
  },
  "toc": {
   "base_numbering": 1,
   "nav_menu": {},
   "number_sections": true,
   "sideBar": true,
   "skip_h1_title": false,
   "title_cell": "Table of Contents",
   "title_sidebar": "Contents",
   "toc_cell": false,
   "toc_position": {},
   "toc_section_display": true,
   "toc_window_display": true
  }
 },
 "nbformat": 4,
 "nbformat_minor": 5
}
